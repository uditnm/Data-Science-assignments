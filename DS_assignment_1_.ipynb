{
  "cells": [
    {
      "cell_type": "markdown",
      "metadata": {
        "id": "view-in-github",
        "colab_type": "text"
      },
      "source": [
        "<a href=\"https://colab.research.google.com/github/uditnm/Data-Science-assignments/blob/main/DS_assignment_1_.ipynb\" target=\"_parent\"><img src=\"https://colab.research.google.com/assets/colab-badge.svg\" alt=\"Open In Colab\"/></a>"
      ]
    },
    {
      "cell_type": "code",
      "execution_count": 1,
      "id": "b07e0bcc",
      "metadata": {
        "id": "b07e0bcc"
      },
      "outputs": [],
      "source": [
        "import pandas as pd\n",
        "import numpy as np\n",
        "import seaborn as sns\n",
        "import matplotlib.pyplot as plt\n",
        "from sklearn.linear_model import LinearRegression\n",
        "from sklearn.linear_model import LogisticRegression"
      ]
    },
    {
      "cell_type": "code",
      "execution_count": 2,
      "id": "bd70d277",
      "metadata": {
        "id": "bd70d277"
      },
      "outputs": [],
      "source": [
        "data = pd.read_csv('lung_cancer.csv')"
      ]
    },
    {
      "cell_type": "code",
      "execution_count": 3,
      "id": "f1e07082",
      "metadata": {
        "colab": {
          "base_uri": "https://localhost:8080/"
        },
        "id": "f1e07082",
        "outputId": "91b07250-191a-4edf-c318-fe574e40c5fd"
      },
      "outputs": [
        {
          "output_type": "stream",
          "name": "stdout",
          "text": [
            "(59, 7)\n"
          ]
        }
      ],
      "source": [
        "print(data.shape)"
      ]
    },
    {
      "cell_type": "code",
      "execution_count": 4,
      "id": "3829b9ef",
      "metadata": {
        "colab": {
          "base_uri": "https://localhost:8080/"
        },
        "id": "3829b9ef",
        "outputId": "7c8b8a3f-31c8-4b40-bfc1-91125d560e55"
      },
      "outputs": [
        {
          "output_type": "stream",
          "name": "stdout",
          "text": [
            "     Name      Surname  Age  Smokes  AreaQ  Alkhol  Result\n",
            "0    John         Wick   35       3      5       4       1\n",
            "1    John  Constantine   27      20      2       5       1\n",
            "2  Camela     Anderson   30       0      5       2       0\n",
            "3    Alex       Telles   28       0      8       1       0\n",
            "4   Diego     Maradona   68       4      5       6       1\n"
          ]
        }
      ],
      "source": [
        "print(data.head(5))"
      ]
    },
    {
      "cell_type": "code",
      "execution_count": 5,
      "id": "4356a759",
      "metadata": {
        "id": "4356a759"
      },
      "outputs": [],
      "source": [
        "y=data['Result']\n",
        "X=data.drop(['Name','Surname','Result'], axis=1)"
      ]
    },
    {
      "cell_type": "code",
      "execution_count": 6,
      "id": "9517b6e4",
      "metadata": {
        "id": "9517b6e4"
      },
      "outputs": [],
      "source": [
        "from sklearn.model_selection import train_test_split\n",
        "X_train, X_test, y_train, y_test = train_test_split(X, y, test_size=0.3)"
      ]
    },
    {
      "cell_type": "code",
      "execution_count": 7,
      "id": "4b391287",
      "metadata": {
        "id": "4b391287"
      },
      "outputs": [],
      "source": [
        "from sklearn.preprocessing import StandardScaler\n",
        "sc = StandardScaler()\n",
        "X_train = sc.fit_transform(X_train)\n",
        "X_test = sc.fit_transform(X_test)"
      ]
    },
    {
      "cell_type": "code",
      "execution_count": 8,
      "id": "09df2494",
      "metadata": {
        "colab": {
          "base_uri": "https://localhost:8080/"
        },
        "id": "09df2494",
        "outputId": "787ed532-fa21-4428-a8e8-6b7f81b953c6"
      },
      "outputs": [
        {
          "output_type": "execute_result",
          "data": {
            "text/plain": [
              "LogisticRegression()"
            ]
          },
          "metadata": {},
          "execution_count": 8
        }
      ],
      "source": [
        "from sklearn.linear_model import LogisticRegression\n",
        "classifer = LogisticRegression()\n",
        "classifer.fit(X_train, y_train)"
      ]
    },
    {
      "cell_type": "code",
      "execution_count": 9,
      "id": "8b6b415d",
      "metadata": {
        "colab": {
          "base_uri": "https://localhost:8080/"
        },
        "id": "8b6b415d",
        "outputId": "3ef474e4-0e3b-4a84-f220-162f0e626a51"
      },
      "outputs": [
        {
          "output_type": "execute_result",
          "data": {
            "text/plain": [
              "array([1, 1, 0, 0, 0, 0, 0, 0, 1, 1, 1, 0, 0, 1, 0, 1, 1, 1])"
            ]
          },
          "metadata": {},
          "execution_count": 9
        }
      ],
      "source": [
        "y_pred = classifer.predict(X_test)\n",
        "y_pred"
      ]
    },
    {
      "cell_type": "code",
      "execution_count": 10,
      "id": "3c0b2139",
      "metadata": {
        "colab": {
          "base_uri": "https://localhost:8080/"
        },
        "id": "3c0b2139",
        "outputId": "329fadd5-9104-4103-e21f-9e534f4632dd"
      },
      "outputs": [
        {
          "output_type": "stream",
          "name": "stdout",
          "text": [
            "[[9 2]\n",
            " [0 7]]\n",
            "Accuracy =  0.8888888888888888\n"
          ]
        }
      ],
      "source": [
        "from sklearn.metrics import confusion_matrix, accuracy_score\n",
        "from sklearn import metrics\n",
        "cm = confusion_matrix(y_test, y_pred)\n",
        "print(cm)\n",
        "print('Accuracy = ', accuracy_score(y_test, y_pred))"
      ]
    },
    {
      "cell_type": "code",
      "execution_count": 11,
      "id": "40ffb0a9",
      "metadata": {
        "colab": {
          "base_uri": "https://localhost:8080/"
        },
        "id": "40ffb0a9",
        "outputId": "36edba56-5ce3-4e28-c8e8-f147b49c1a23"
      },
      "outputs": [
        {
          "output_type": "execute_result",
          "data": {
            "text/plain": [
              "LinearRegression()"
            ]
          },
          "metadata": {},
          "execution_count": 11
        }
      ],
      "source": [
        "model = LinearRegression()\n",
        "model.fit(X_train,y_train)"
      ]
    },
    {
      "cell_type": "code",
      "execution_count": 12,
      "id": "6880300a",
      "metadata": {
        "colab": {
          "base_uri": "https://localhost:8080/"
        },
        "id": "6880300a",
        "outputId": "a7738cb8-b296-477d-d6be-d657adfefa84"
      },
      "outputs": [
        {
          "output_type": "execute_result",
          "data": {
            "text/plain": [
              "[1, 1, 0, 0, 0, 0, 0, 0, 1, 1, 1, 0, 0, 1, 0, 1, 1, 1]"
            ]
          },
          "metadata": {},
          "execution_count": 12
        }
      ],
      "source": [
        "pred = model.predict(X_test)\n",
        "y_pred1 = [ 0 if x < 0.5 else 1 for x in pred]\n",
        "y_pred1"
      ]
    },
    {
      "cell_type": "code",
      "execution_count": 13,
      "id": "3ad840f9",
      "metadata": {
        "colab": {
          "base_uri": "https://localhost:8080/"
        },
        "id": "3ad840f9",
        "outputId": "6e3670c5-3a16-4c3d-ecf0-ec07f38888e6"
      },
      "outputs": [
        {
          "output_type": "stream",
          "name": "stdout",
          "text": [
            "Confusin Matrix: \n",
            "[[9 2]\n",
            " [0 7]]\n",
            "Accuracy =  0.8888888888888888\n",
            "Confusin Matrix: \n",
            "[[9 2]\n",
            " [0 7]]\n",
            "Accuracy =  0.8888888888888888\n"
          ]
        }
      ],
      "source": [
        "from sklearn import metrics\n",
        "from sklearn.metrics import confusion_matrix\n",
        "cm1= confusion_matrix(y_test,y_pred1) #linear\n",
        "print(\"Confusin Matrix: \")\n",
        "print(cm1)\n",
        "print('Accuracy = ', accuracy_score(y_test, y_pred1))\n",
        "cm2=confusion_matrix(y_test,y_pred) #logistic\n",
        "print(\"Confusin Matrix: \")\n",
        "print(cm2)\n",
        "print('Accuracy = ', accuracy_score(y_test, y_pred))"
      ]
    },
    {
      "cell_type": "code",
      "execution_count": 14,
      "id": "912ddde8",
      "metadata": {
        "colab": {
          "base_uri": "https://localhost:8080/",
          "height": 283
        },
        "id": "912ddde8",
        "outputId": "5c49e8a5-0709-4948-deee-b15cb80aa8a7"
      },
      "outputs": [
        {
          "output_type": "display_data",
          "data": {
            "text/plain": [
              "<Figure size 432x288 with 2 Axes>"
            ],
            "image/png": "[encoded data removed]"
          },
          "metadata": {
            "needs_background": "light"
          }
        }
      ],
      "source": [
        "cm_display = metrics.ConfusionMatrixDisplay(confusion_matrix = cm1, display_labels =[False,True])\n",
        "cm_display.plot()\n",
        "plt.show()"
      ]
    },
    {
      "cell_type": "code",
      "execution_count": 15,
      "id": "082bf22e",
      "metadata": {
        "colab": {
          "base_uri": "https://localhost:8080/",
          "height": 283
        },
        "id": "082bf22e",
        "outputId": "ead2759f-3f16-43d0-88d4-be0df5621d50"
      },
      "outputs": [
        {
          "output_type": "display_data",
          "data": {
            "text/plain": [
              "<Figure size 432x288 with 2 Axes>"
            ],
            "image/png": "[encoded data removed]"
          },
          "metadata": {
            "needs_background": "light"
          }
        }
      ],
      "source": [
        "cm_display = metrics.ConfusionMatrixDisplay(confusion_matrix = cm2, display_labels =[False,True])\n",
        "cm_display.plot()\n",
        "plt.show()"
      ]
    },
    {
      "cell_type": "code",
      "execution_count": 16,
      "id": "bb174ba7",
      "metadata": {
        "colab": {
          "base_uri": "https://localhost:8080/"
        },
        "id": "bb174ba7",
        "outputId": "70a74bc4-94cb-497f-988c-0204555e9447"
      },
      "outputs": [
        {
          "output_type": "stream",
          "name": "stdout",
          "text": [
            "Area under the curve: 0.9090909090909091\n"
          ]
        }
      ],
      "source": [
        "from sklearn.metrics import roc_curve, auc\n",
        "false_positive_rate, true_positive_rate, thresholds = roc_curve(y_test, y_pred)\n",
        "roc_auc = auc(false_positive_rate, true_positive_rate)\n",
        "print(\"Area under the curve:\",roc_auc)"
      ]
    },
    {
      "cell_type": "code",
      "execution_count": 17,
      "id": "659d9123",
      "metadata": {
        "colab": {
          "base_uri": "https://localhost:8080/",
          "height": 283
        },
        "id": "659d9123",
        "outputId": "28bf3e88-516b-4b3b-ac28-71e75e060eac"
      },
      "outputs": [
        {
          "output_type": "execute_result",
          "data": {
            "text/plain": [
              "[<matplotlib.lines.Line2D at 0x7fe7f12b97d0>]"
            ]
          },
          "metadata": {},
          "execution_count": 17
        },
        {
          "output_type": "display_data",
          "data": {
            "text/plain": [
              "<Figure size 432x288 with 1 Axes>"
            ],
            "image/png": "[encoded data removed]"
          },
          "metadata": {
            "needs_background": "light"
          }
        }
      ],
      "source": [
        "#Displaying the ROC curve \n",
        "plt.plot(false_positive_rate,true_positive_rate)"
      ]
    },
    {
      "cell_type": "code",
      "execution_count": 18,
      "id": "a836b26f",
      "metadata": {
        "colab": {
          "base_uri": "https://localhost:8080/"
        },
        "id": "a836b26f",
        "outputId": "ddfae7b2-4c3a-4141-ba18-7b268c208e0d"
      },
      "outputs": [
        {
          "output_type": "stream",
          "name": "stdout",
          "text": [
            "Area under the curve: 0.9090909090909091\n"
          ]
        }
      ],
      "source": [
        "from sklearn.metrics import roc_curve, auc\n",
        "false_positive_rate, true_positive_rate, thresholds = roc_curve(y_test, y_pred1)\n",
        "roc_auc = auc(false_positive_rate, true_positive_rate)\n",
        "print(\"Area under the curve:\",roc_auc)"
      ]
    },
    {
      "cell_type": "code",
      "execution_count": 19,
      "id": "a03632e0",
      "metadata": {
        "colab": {
          "base_uri": "https://localhost:8080/",
          "height": 283
        },
        "id": "a03632e0",
        "outputId": "9cb8f093-a50c-47a8-99e3-40c2f0d19333"
      },
      "outputs": [
        {
          "output_type": "execute_result",
          "data": {
            "text/plain": [
              "[<matplotlib.lines.Line2D at 0x7fe7f0d14790>]"
            ]
          },
          "metadata": {},
          "execution_count": 19
        },
        {
          "output_type": "display_data",
          "data": {
            "text/plain": [
              "<Figure size 432x288 with 1 Axes>"
            ],
            "image/png": "[encoded data removed]"
          },
          "metadata": {
            "needs_background": "light"
          }
        }
      ],
      "source": [
        "#Displaying the ROC curve \n",
        "plt.plot(false_positive_rate,true_positive_rate)"
      ]
    },
    {
      "cell_type": "code",
      "execution_count": 19,
      "id": "56fdc3ef",
      "metadata": {
        "id": "56fdc3ef"
      },
      "outputs": [],
      "source": []
    }
  ],
  "metadata": {
    "kernelspec": {
      "display_name": "Python 3 (ipykernel)",
      "language": "python",
      "name": "python3"
    },
    "language_info": {
      "codemirror_mode": {
        "name": "ipython",
        "version": 3
      },
      "file_extension": ".py",
      "mimetype": "text/x-python",
      "name": "python",
      "nbconvert_exporter": "python",
      "pygments_lexer": "ipython3",
      "version": "3.9.12"
    },
    "colab": {
      "provenance": [],
      "include_colab_link": true
    }
  },
  "nbformat": 4,
  "nbformat_minor": 5
}